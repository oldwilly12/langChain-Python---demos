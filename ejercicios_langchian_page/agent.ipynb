{
 "cells": [
  {
   "cell_type": "code",
   "execution_count": 13,
   "id": "761cbbec-2461-4fe3-91e8-e50c660ac1a3",
   "metadata": {},
   "outputs": [],
   "source": [
    "from langchain_openai import ChatOpenAI\n",
    "from dotenv import load_dotenv\n",
    "from langchain_tavily import TavilySearch\n",
    "from langgraph.checkpoint.memory import MemorySaver\n",
    "from langgraph.prebuilt import create_react_agent\n",
    "from langchain_core.messages import HumanMessage"
   ]
  },
  {
   "cell_type": "code",
   "execution_count": 11,
   "id": "f27dea2c-b682-4c77-8582-348e45aa38d0",
   "metadata": {},
   "outputs": [
    {
     "data": {
      "text/plain": [
       "True"
      ]
     },
     "execution_count": 11,
     "metadata": {},
     "output_type": "execute_result"
    }
   ],
   "source": [
    "load_dotenv(\"./.env\")"
   ]
  },
  {
   "cell_type": "code",
   "execution_count": 12,
   "id": "63b09dff-2744-48bc-a972-d54443e049e8",
   "metadata": {},
   "outputs": [],
   "source": [
    "memory = MemorySaver()\n",
    "model = ChatOpenAI(model=\"gpt-4o-mini\", temperature=0.5)\n",
    "search = TavilySearch(max_results=2)\n",
    "tools = [search]\n",
    "agent_executor = create_react_agent(model, tools, checkpointer=memory)"
   ]
  },
  {
   "cell_type": "code",
   "execution_count": 15,
   "id": "41b3ae44-b96b-4d55-b4d3-19c8eeec5aaf",
   "metadata": {},
   "outputs": [
    {
     "name": "stdout",
     "output_type": "stream",
     "text": [
      "================================\u001b[1m Human Message \u001b[0m=================================\n",
      "\n",
      "Hi, I'm Bob and I life in SF.\n",
      "==================================\u001b[1m Ai Message \u001b[0m==================================\n",
      "\n",
      "Hi Bob! It's great to meet you. How can I assist you today?\n"
     ]
    }
   ],
   "source": [
    "# Use the agent\n",
    "config = {\"configurable\": {\"thread_id\": \"abc123\"}}\n",
    "\n",
    "query= \"Hi, I'm Bob and I life in SF.\"\n",
    "input_message = [HumanMessage(query)]\n",
    "for step in agent_executor.stream(\n",
    "    {\"messages\": input_message}, config, stream_mode=\"values\"\n",
    "):\n",
    "    step[\"messages\"][-1].pretty_print()"
   ]
  },
  {
   "cell_type": "code",
   "execution_count": 16,
   "id": "43a79f38-3f71-4b9d-b16f-8e49e504ee06",
   "metadata": {},
   "outputs": [
    {
     "name": "stdout",
     "output_type": "stream",
     "text": [
      "================================\u001b[1m Human Message \u001b[0m=================================\n",
      "\n",
      "What's the weather where I live?\n",
      "==================================\u001b[1m Ai Message \u001b[0m==================================\n",
      "Tool Calls:\n",
      "  tavily_search (call_TKT7cUyN30qGvuZLJVtVQX4n)\n",
      " Call ID: call_TKT7cUyN30qGvuZLJVtVQX4n\n",
      "  Args:\n",
      "    query: San Francisco weather\n",
      "    topic: general\n",
      "=================================\u001b[1m Tool Message \u001b[0m=================================\n",
      "Name: tavily_search\n",
      "\n",
      "{\"query\": \"San Francisco weather\", \"follow_up_questions\": null, \"answer\": null, \"images\": [], \"results\": [{\"title\": \"Weather in San Francisco, California\", \"url\": \"https://www.weatherapi.com/\", \"content\": \"{'location': {'name': 'San Francisco', 'region': 'California', 'country': 'United States of America', 'lat': 37.775, 'lon': -122.4183, 'tz_id': 'America/Los_Angeles', 'localtime_epoch': 1751754380, 'localtime': '2025-07-05 15:26'}, 'current': {'last_updated_epoch': 1751753700, 'last_updated': '2025-07-05 15:15', 'temp_c': 15.0, 'temp_f': 59.0, 'is_day': 1, 'condition': {'text': 'Partly cloudy', 'icon': '//cdn.weatherapi.com/weather/64x64/day/116.png', 'code': 1003}, 'wind_mph': 12.1, 'wind_kph': 19.4, 'wind_degree': 259, 'wind_dir': 'W', 'pressure_mb': 1021.0, 'pressure_in': 30.16, 'precip_mm': 0.0, 'precip_in': 0.0, 'humidity': 88, 'cloud': 50, 'feelslike_c': 13.7, 'feelslike_f': 56.7, 'windchill_c': 12.8, 'windchill_f': 55.1, 'heatindex_c': 13.9, 'heatindex_f': 57.0, 'dewpoint_c': 11.9, 'dewpoint_f': 53.4, 'vis_km': 11.0, 'vis_miles': 6.0, 'uv': 7.7, 'gust_mph': 15.3, 'gust_kph': 24.7}}\", \"score\": 0.8768231, \"raw_content\": null}, {\"url\": \"https://www.weather25.com/north-america/usa/california/san-francisco?page=month&month=July\", \"title\": \"San Francisco weather in July 2025 | Weather25.com\", \"content\": \"| February | 16° / 7° | 4 | 24 | 0 | 61 mm | Good | San Francisco in February | | March | 17° / 8° | 5 | 26 | 0 | 62 mm | Good | San Francisco in March | | May | 20° / 10° | 1 | 30 | 0 | 13 mm | Good | San Francisco in May | | July | 25° / 14° | 0 | 31 | 0 | 3 mm | Perfect | San Francisco in July | | December | 14° / 8° | 4 | 27 | 0 | 55 mm | Good | San Francisco in December |\", \"score\": 0.829285, \"raw_content\": null}], \"response_time\": 3.82}\n",
      "==================================\u001b[1m Ai Message \u001b[0m==================================\n",
      "\n",
      "The current weather in San Francisco is partly cloudy with a temperature of 59°F (15°C). Here are some additional details:\n",
      "\n",
      "- **Wind:** 12.1 mph (19.4 kph) from the west\n",
      "- **Humidity:** 88%\n",
      "- **Visibility:** 6 miles\n",
      "- **Pressure:** 30.16 in (1021 mb)\n",
      "\n",
      "You can check more detailed weather updates [here](https://www.weatherapi.com/). If you need further information, feel free to ask!\n"
     ]
    }
   ],
   "source": [
    "input_message = {\n",
    "    \"role\": \"user\",\n",
    "    \"content\": \"What's the weather where I live?\",\n",
    "}\n",
    "\n",
    "for step in agent_executor.stream(\n",
    "    {\"messages\": [input_message]}, config, stream_mode=\"values\"\n",
    "):\n",
    "    step[\"messages\"][-1].pretty_print()"
   ]
  },
  {
   "cell_type": "markdown",
   "id": "d5ab0bf5-d3f8-46f2-8f58-120b20bf6f33",
   "metadata": {},
   "source": [
    "# lets check everypart this is like the begining"
   ]
  },
  {
   "cell_type": "code",
   "execution_count": 17,
   "id": "f512f9d0-ecaf-4e33-8131-40e253e6ce64",
   "metadata": {},
   "outputs": [
    {
     "name": "stdout",
     "output_type": "stream",
     "text": [
      "{'query': 'What is the weather in SF', 'follow_up_questions': None, 'answer': None, 'images': [], 'results': [{'title': 'Weather in San Francisco, CA', 'url': 'https://www.weatherapi.com/', 'content': \"{'location': {'name': 'San Francisco', 'region': 'California', 'country': 'United States of America', 'lat': 37.775, 'lon': -122.4183, 'tz_id': 'America/Los_Angeles', 'localtime_epoch': 1751756289, 'localtime': '2025-07-05 15:58'}, 'current': {'last_updated_epoch': 1751755500, 'last_updated': '2025-07-05 15:45', 'temp_c': 15.3, 'temp_f': 59.5, 'is_day': 1, 'condition': {'text': 'Partly cloudy', 'icon': '//cdn.weatherapi.com/weather/64x64/day/116.png', 'code': 1003}, 'wind_mph': 12.1, 'wind_kph': 19.4, 'wind_degree': 259, 'wind_dir': 'W', 'pressure_mb': 1021.0, 'pressure_in': 30.15, 'precip_mm': 0.0, 'precip_in': 0.0, 'humidity': 88, 'cloud': 50, 'feelslike_c': 15.3, 'feelslike_f': 59.5, 'windchill_c': 12.8, 'windchill_f': 55.1, 'heatindex_c': 13.9, 'heatindex_f': 57.0, 'dewpoint_c': 11.9, 'dewpoint_f': 53.4, 'vis_km': 11.0, 'vis_miles': 6.0, 'uv': 7.7, 'gust_mph': 15.3, 'gust_kph': 24.7}}\", 'score': 0.8273219, 'raw_content': None}, {'title': 'Weather in San Francisco in May 2025', 'url': 'https://world-weather.info/forecast/usa/san_francisco/may-2025/', 'content': \"1 +59° +52° 2 +59° +52° 3 +59° +52° 4 +64° +50° 5 +77° +57° 6 +66° +55° 7 +63° +54° 8 +66° +50° 9 +72° +52° 10 +66° +54° 11 +61° +52° 12 +61° +55° 13 +63° +52° 14 +64° +52° 15 +64° +52° 16 +63° +52° 17 +61° +54° 18 +64° +52° 19 +64° +54° 20 +63° +52° 21 +64° +50° 22 +63° +52° 23 +59° +52° 24 +59° +52° 25 +61° +52° 26 +63° +55° 27 +63° +52° 28 +61° +54° Redwood City+63° San Leandro+63° San Mateo+59° San Rafael+64° San Ramon+63° South San Francisco+55° Daly City+55° world's temperature today Siorapaluk day+25°F night+14°F Gâlâfi day+118°F night+95°F Weather forecast on your site Install San Francisco +59° Temperature units\", 'score': 0.82728493, 'raw_content': None}], 'response_time': 3.78}\n"
     ]
    }
   ],
   "source": [
    "search = TavilySearch(max_results=2)\n",
    "search_results = search.invoke(\"What is the weather in SF\")\n",
    "print(search_results)\n",
    "# If we want, we can create other tools.\n",
    "# Once we have all the tools we want, we can put them in a list that we will reference later.\n",
    "tools = [search]"
   ]
  },
  {
   "cell_type": "code",
   "execution_count": 18,
   "id": "0dc60d04-2f3a-418f-bcde-3c369fa9364d",
   "metadata": {},
   "outputs": [
    {
     "data": {
      "text/plain": [
       "'Hello! How can I assist you today?'"
      ]
     },
     "execution_count": 18,
     "metadata": {},
     "output_type": "execute_result"
    }
   ],
   "source": [
    "query = \"Hi!\"\n",
    "response = model.invoke([{\"role\": \"user\", \"content\": query}])\n",
    "response.text()"
   ]
  },
  {
   "cell_type": "code",
   "execution_count": 19,
   "id": "858e5565-1c4e-4a0d-898a-bacb5ebdb04b",
   "metadata": {},
   "outputs": [],
   "source": [
    "# create or bind tools to a model\n",
    "model_with_tools = model.bind_tools(tools)"
   ]
  },
  {
   "cell_type": "code",
   "execution_count": 20,
   "id": "b794180d-8912-4243-8ee7-d7d587c619fd",
   "metadata": {},
   "outputs": [
    {
     "name": "stdout",
     "output_type": "stream",
     "text": [
      "Message content: Hello! How can I assist you today?\n",
      "\n",
      "Tool calls: []\n"
     ]
    }
   ],
   "source": [
    "query = \"Hi!\"\n",
    "response = model_with_tools.invoke([{\"role\": \"user\", \"content\": query}])\n",
    "\n",
    "print(f\"Message content: {response.text()}\\n\")\n",
    "print(f\"Tool calls: {response.tool_calls}\")"
   ]
  },
  {
   "cell_type": "code",
   "execution_count": 21,
   "id": "67effd3d-1241-4f4a-8283-88a9aeae44e6",
   "metadata": {},
   "outputs": [
    {
     "name": "stdout",
     "output_type": "stream",
     "text": [
      "Message content: \n",
      "\n",
      "Tool calls: [{'name': 'tavily_search', 'args': {'query': 'weather in San Francisco', 'topic': 'general'}, 'id': 'call_16McEMfGOKAVpTSEFRmhGw9l', 'type': 'tool_call'}]\n"
     ]
    }
   ],
   "source": [
    "query = \"Search for the weather in SF\"\n",
    "response = model_with_tools.invoke([{\"role\": \"user\", \"content\": query}])\n",
    "\n",
    "print(f\"Message content: {response.text()}\\n\")\n",
    "print(f\"Tool calls: {response.tool_calls}\")"
   ]
  }
 ],
 "metadata": {
  "kernelspec": {
   "display_name": "Python (venv)",
   "language": "python",
   "name": "env"
  },
  "language_info": {
   "codemirror_mode": {
    "name": "ipython",
    "version": 3
   },
   "file_extension": ".py",
   "mimetype": "text/x-python",
   "name": "python",
   "nbconvert_exporter": "python",
   "pygments_lexer": "ipython3",
   "version": "3.13.2"
  }
 },
 "nbformat": 4,
 "nbformat_minor": 5
}
